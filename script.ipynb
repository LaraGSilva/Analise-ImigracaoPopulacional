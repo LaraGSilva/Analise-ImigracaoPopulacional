{
 "cells": [
  {
   "cell_type": "code",
   "execution_count": null,
   "metadata": {},
   "outputs": [],
   "source": [
    "import pandas as pd\n",
    "from matplotlib import pyplot as plt\n",
    "import os\n",
    "import seaborn as sns\n",
    "import plotly.express as px"
   ]
  },
  {
   "cell_type": "code",
   "execution_count": null,
   "metadata": {},
   "outputs": [],
   "source": [
    "file = 'canadian_immegration_data.csv'\n",
    "df = pd.read_csv(file)\n",
    "df"
   ]
  },
  {
   "cell_type": "code",
   "execution_count": null,
   "metadata": {},
   "outputs": [],
   "source": [
    "df.set_index('Country', inplace=True)"
   ]
  },
  {
   "cell_type": "code",
   "execution_count": null,
   "metadata": {},
   "outputs": [],
   "source": [
    "anos = list(map(str, range (1980,2014)))\n",
    "anos"
   ]
  },
  {
   "cell_type": "code",
   "execution_count": null,
   "metadata": {},
   "outputs": [],
   "source": [
    "Brasil = df.loc['Brazil', anos]\n",
    "Brasil"
   ]
  },
  {
   "cell_type": "code",
   "execution_count": null,
   "metadata": {},
   "outputs": [],
   "source": [
    "brasil_dict = {'ano': Brasil.index.tolist(), 'Imigrantes':Brasil.values.tolist()}\n",
    "dados_Brasil = pd.DataFrame(brasil_dict)"
   ]
  },
  {
   "cell_type": "code",
   "execution_count": null,
   "metadata": {},
   "outputs": [],
   "source": [
    "dados_Brasil"
   ]
  },
  {
   "cell_type": "code",
   "execution_count": null,
   "metadata": {},
   "outputs": [],
   "source": [
    "Argentina = df.loc['Argentina', anos]\n",
    "Argentina"
   ]
  },
  {
   "cell_type": "code",
   "execution_count": null,
   "metadata": {},
   "outputs": [],
   "source": [
    "Peru = df.loc['Peru', anos]\n",
    "peru_dict = {'ano':Peru.index.tolist(),'Imigrantes':Peru.values.tolist()}\n",
    "dados_peru = pd.DataFrame(peru_dict)\n",
    "dados_peru"
   ]
  },
  {
   "cell_type": "code",
   "execution_count": null,
   "metadata": {},
   "outputs": [],
   "source": [
    "Argentina = df.loc['Argentina', anos]\n",
    "argentina_dict = {'ano':Argentina.index.tolist(),'Imigrantes':Argentina.values.tolist()}\n",
    "\n",
    "dados_argentina = pd.DataFrame(argentina_dict)\n",
    "dados_argentina"
   ]
  },
  {
   "cell_type": "code",
   "execution_count": null,
   "metadata": {},
   "outputs": [],
   "source": [
    "Colombia = df.loc['Colombia', anos]\n",
    "colombia_dict = {'ano':Colombia.index.tolist(),'Imigrantes':Colombia.values.tolist()}\n",
    "dados_colombia = pd.DataFrame(colombia_dict)\n",
    "dados_colombia"
   ]
  },
  {
   "cell_type": "code",
   "execution_count": null,
   "metadata": {},
   "outputs": [],
   "source": [
    "# plt.figure(figsize=(12,4))\n",
    "# plt.plot(dados_argentina['ano'], dados_argentina['Imigrantes'])\n",
    "# plt.title('Imigração da Argentina pro Canada')\n",
    "# plt.xlabel('Ano')\n",
    "# plt.ylabel('Imigrantes')\n",
    "# plt.xticks(['1980', '1985', '1990', '1995', '2000', '2005', '2010'])\n",
    "# plt.yticks([500, 1000,1500,2000,2500,3000])\n",
    "\n",
    "\n",
    "fig, ax = plt.subplots(figsize=(12,4))\n",
    "\n",
    "ax.plot(dados_argentina['ano'], dados_argentina['Imigrantes'])\n",
    "ax.set_title('Imigração da Argentina para o Canada\\n 1980 a 2013')\n",
    "ax.xaxis.set_major_locator(plt.MultipleLocator(5))\n",
    "ax.set_xlabel('Ano')\n",
    "ax.set_ylabel('Imigrantes')\n",
    "\n",
    "plt.show()"
   ]
  },
  {
   "cell_type": "code",
   "execution_count": null,
   "metadata": {},
   "outputs": [],
   "source": [
    "fig, axs = plt.subplots(1, 2, figsize=(15,5))\n",
    "axs[0].plot(dados_argentina['ano'], dados_argentina['Imigrantes'], lw=3, marker='o')\n",
    "axs[0].set_title('Imigração da Argentina para o Canada\\n de 1890 a 2013', fontsize=18)\n",
    "axs[0].set_xlabel('Ano')\n",
    "axs[0].set_ylabel('Imigrantes')\n",
    "axs[0].xaxis.set_major_locator(plt.MultipleLocator(5))\n",
    "axs[0].grid()\n",
    "\n",
    "axs[1].boxplot(dados_Brasil['Imigrantes'])\n",
    "axs[1].set_title('BoxPlot Imigração do Brasil para o Canada\\n de 1890 a 2013')\n",
    "axs[1].set_xlabel('Ano')\n",
    "axs[1].set_ylabel('Imigrantes')\n",
    "axs[1].xaxis.set_major_locator(plt.MultipleLocator(5))\n",
    "axs[1].grid()\n",
    "plt.show()"
   ]
  },
  {
   "cell_type": "code",
   "execution_count": null,
   "metadata": {},
   "outputs": [],
   "source": [
    "dados_Brasil.describe()"
   ]
  },
  {
   "cell_type": "code",
   "execution_count": null,
   "metadata": {},
   "outputs": [],
   "source": [
    "df_comparacao  = df.loc[['Brazil','Argentina'], anos]\n",
    "\n",
    "df_comparacao = df_comparacao.T\n",
    "\n",
    "df_comparacao"
   ]
  },
  {
   "cell_type": "code",
   "execution_count": null,
   "metadata": {},
   "outputs": [],
   "source": [
    "plt.plot(df_comparacao['Argentina'], label ='Argentina')\n",
    "plt.plot(df_comparacao['Brazil'], label ='Brasil')\n",
    "plt.xticks(['1980', '1985', '1990', '1995', '2000', '2005', '2010'])\n",
    "plt.yticks([500, 1000,1500,2000,2500,3000])\n",
    "plt.xlabel('Ano')\n",
    "plt.ylabel('Imigrantes')\n",
    "plt.legend()\n",
    "\n",
    "plt.show()"
   ]
  },
  {
   "cell_type": "code",
   "execution_count": null,
   "metadata": {},
   "outputs": [],
   "source": [
    "fig, axs = plt.subplots(2,2, figsize=(10,6))\n",
    "\n",
    "# ADJUST AJUSTA OS SUBPLOTS\n",
    "fig.subplots_adjust(hspace=0.5, wspace=0.3)\n",
    "\n",
    "axs[0,0].plot(df.loc['Brazil', anos])\n",
    "axs[0,0].set_title('Brazil')\n",
    "\n",
    "axs[0,1].plot(df.loc['Colombia', anos])\n",
    "axs[0,1].set_title('Colombia')\n",
    "\n",
    "axs[1,0].plot(df.loc['Argentina', anos])\n",
    "axs[1,0].set_title('Argentina')\n",
    "\n",
    "axs[1,1].plot(df.loc['Peru', anos])\n",
    "axs[1,1].set_title('Peru')\n",
    "\n",
    "# SET MAJOR LOCATOR VAI COLOCANDO O PADRAO NO CASO 5\n",
    "for ax in axs.flat:\n",
    "    ax.xaxis.set_major_locator(plt.MultipleLocator(5))\n",
    "\n",
    "# AO ACESSAR ARRAYS BIDIMENSIONAIS, O FLAT VAI RETORNAR UM ITERADOR COM OS VALORES\n",
    "for ax in axs.flat:\n",
    "  ax.set_xlabel('Ano')\n",
    "  ax.set_ylabel('Número de imigrantes')\n",
    "\n",
    "\n",
    "ymin = 0\n",
    "ymax =7000\n",
    "\n",
    "# O METODO RAVEL TRANSFORMA ARRYAS BIDIMENSIONAIS PARA ARRAYS UNIDIMENSIONAIS\n",
    "for ax in axs.ravel():\n",
    "    ax.set_ylim(ymin, ymax)\n",
    "    \n",
    "    \n",
    "plt.show()"
   ]
  },
  {
   "cell_type": "code",
   "execution_count": null,
   "metadata": {},
   "outputs": [],
   "source": [
    "america_sul = df.query('Region == \"South America\"')\n",
    "america_sul"
   ]
  },
  {
   "cell_type": "code",
   "execution_count": null,
   "metadata": {},
   "outputs": [],
   "source": [
    "america_sul_sorted = america_sul.sort_values(by='Total', ascending=True)"
   ]
  },
  {
   "cell_type": "code",
   "execution_count": null,
   "metadata": {},
   "outputs": [],
   "source": [
    "cores = []\n",
    "for pais in america_sul_sorted.index:\n",
    "    if pais == 'Brazil':\n",
    "        cores.append('blue')\n",
    "    else:\n",
    "        cores.append('silver')\n",
    "\n",
    "\n",
    "fig, ax = plt.subplots(figsize=(18,6))\n",
    "ax.barh(america_sul_sorted.index,america_sul_sorted['Total'], color=cores)\n",
    "ax.set_title('Imigração da America do Sul para o Canada', loc='left', fontsize=18)\n",
    "ax.set_xlabel('Numero de Imigrantes', fontsize=12)\n",
    "ax.set_ylabel('')\n",
    "ax.xaxis.set_tick_params(labelsize=12)\n",
    "\n",
    "\n",
    "for i, v, in enumerate(america_sul_sorted['Total']):\n",
    "    ax.text(v + 30, i, str(v), color='black', fontsize=10, ha='left', va='center')\n",
    "    \n",
    "    \n",
    "ax.set_frame_on(False)\n",
    "ax.get_xaxis().set_visible(False)\n",
    "ax.tick_params(axis='both', which='both', length=0)\n",
    "\n",
    "\n",
    "fig.savefig('Imigracao_America_Sul.png', transparent=False,dpi=300, bbox_inches='tight')\n",
    "\n",
    "\n",
    "plt.show()"
   ]
  },
  {
   "cell_type": "code",
   "execution_count": null,
   "metadata": {},
   "outputs": [],
   "source": [
    "print(fig.canvas.get_supported_filetypes())"
   ]
  },
  {
   "cell_type": "code",
   "execution_count": null,
   "metadata": {},
   "outputs": [],
   "source": [
    "sns.set_theme(style='dark')     "
   ]
  },
  {
   "cell_type": "code",
   "execution_count": null,
   "metadata": {},
   "outputs": [],
   "source": [
    "top_10 = df.sort_values(by=['Total'], ascending=False).head(10)"
   ]
  },
  {
   "cell_type": "code",
   "execution_count": null,
   "metadata": {},
   "outputs": [],
   "source": [
    "cores = ['yellow', 'green', 'black', 'magenta', 'blue', 'purple', 'gray', 'pink', 'red', 'violet']\n",
    "\n",
    "paleta = sns.color_palette(cores)\n",
    "paleta_pastel = sns.color_palette(\"Set2\")\n",
    "paleta_gradiente = sns.color_palette(\"rocket\", as_cmap=True)"
   ]
  },
  {
   "cell_type": "code",
   "execution_count": null,
   "metadata": {},
   "outputs": [],
   "source": [
    "def gerar_grafico(cor):\n",
    "    fig, ax = plt.subplots(figsize=(8,4))\n",
    "    ax = sns.barplot(data=top_10, y=top_10.index, x='Total', orient='h', palette=cor)\n",
    "    ax.set_title('Imigracao ao Canada dos paises', loc='left', fontsize=14)\n",
    "    ax.set_xlabel('Imigrantes', fontsize=12)\n",
    "    ax.set_ylabel('')\n",
    "        \n",
    "    for i,v in enumerate(top_10['Total']):\n",
    "        ax.text(v + 30, i, str(v), fontsize=8, color='black')\n",
    "        \n",
    "        \n",
    "plt.show()\n"
   ]
  },
  {
   "cell_type": "code",
   "execution_count": null,
   "metadata": {},
   "outputs": [],
   "source": [
    "gerar_grafico('rocket')"
   ]
  },
  {
   "cell_type": "code",
   "execution_count": null,
   "metadata": {},
   "outputs": [],
   "source": [
    "df_comparacao_top_4 =df.loc[['Argentina','Brazil','Peru','Colombia'], anos]\n",
    "df_comparacao_top_4 = df_comparacao_top_4.T\n",
    "df_comparacao_top_4"
   ]
  },
  {
   "cell_type": "code",
   "execution_count": null,
   "metadata": {},
   "outputs": [],
   "source": [
    "sns.set_theme()\n",
    "sns.set_palette('Dark2')\n",
    "\n",
    "fig, ax = plt.subplots(figsize=(10,5))\n",
    "ax = sns.lineplot(df.loc['Brazil', anos], label='Brazil', lw=3)\n",
    "ax = sns.lineplot(df.loc['Peru', anos], label='Peru', lw=3)\n",
    "ax = sns.lineplot(df.loc['Argentina', anos], label='Argentina', lw=3)\n",
    "ax = sns.lineplot(df.loc['Colombia', anos], label='Colombia', lw=3)\n",
    "\n",
    "\n",
    "ax.set_title('Imigração dos maiores países da América do Sul\\npara o Canadá de 1980 a 2013', loc='left', fontsize=20)\n",
    "ax.set_xlabel('Ano', fontsize=14)\n",
    "ax.set_ylabel('Número de imigrantes', fontsize=14)\n",
    "\n",
    "ax.xaxis.set_major_locator(plt.MultipleLocator(5))\n",
    "\n",
    "ax.legend(title='Países', loc='upper right', bbox_to_anchor=(1.18, 1.02))\n",
    "plt.show()"
   ]
  },
  {
   "cell_type": "code",
   "execution_count": null,
   "metadata": {},
   "outputs": [],
   "source": [
    "fig = px.line(dados_Brasil, x='ano', y='Imigrantes', title='Imigração dos Brasil para o Canadá no período de 1980 a 2013')\n",
    "fig.update_layout(width=1000, \n",
    "                height=500,\n",
    "                xaxis={'tickangle': -45},\n",
    "                xaxis_title='Ano',\n",
    "                yaxis_title='Imigrantes',\n",
    "                font_family='Arial',\n",
    "                font_size=14,\n",
    "                font_color='grey',\n",
    "                title_font_color='black',\n",
    "                title_font_size=22,)\n",
    "fig.show()"
   ]
  },
  {
   "cell_type": "code",
   "execution_count": null,
   "metadata": {},
   "outputs": [],
   "source": [
    "america_sul.head()"
   ]
  },
  {
   "cell_type": "code",
   "execution_count": null,
   "metadata": {},
   "outputs": [],
   "source": [
    "df_am_clean = america_sul.drop(['Continent','Region', 'Total'], axis=1)\n",
    "america_sul_final = df_am_clean.T"
   ]
  },
  {
   "cell_type": "code",
   "execution_count": null,
   "metadata": {},
   "outputs": [],
   "source": [
    "america_sul_final"
   ]
  },
  {
   "cell_type": "code",
   "execution_count": null,
   "metadata": {},
   "outputs": [],
   "source": [
    "fig = px.line(america_sul_final, x=america_sul_final.index, y=america_sul_final.columns, color='Country', title='Imigração dos paises para o canada', markers=True)\n",
    "fig.update_layout(xaxis={'tickangle': -45},\n",
    "                  xaxis_title ='ano',\n",
    "                  yaxis_title='Imigrantes')\n",
    "fig.show()"
   ]
  },
  {
   "cell_type": "code",
   "execution_count": null,
   "metadata": {},
   "outputs": [],
   "source": [
    "\n",
    "fig.write_html('Imigração_America_Sul.html')"
   ]
  },
  {
   "cell_type": "code",
   "execution_count": null,
   "metadata": {},
   "outputs": [],
   "source": [
    "import plotly.graph_objs as go"
   ]
  },
  {
   "cell_type": "code",
   "execution_count": null,
   "metadata": {},
   "outputs": [],
   "source": [
    "# Criando uma figura\n",
    "fig = go.Figure()\n",
    "\n",
    "# Adicionando a linha do gráfico e definindo a espessura da linha\n",
    "fig.add_trace(\n",
    "    go.Scatter(x=[dados_Brasil['ano'].iloc[0]], y=[dados_Brasil['Imigrantes'].iloc[0]], mode='lines', name='Imigrantes', line=dict(width=4))\n",
    ")\n",
    "\n",
    "# Definindo as configurações de layout\n",
    "fig.update_layout(\n",
    "    title=dict(\n",
    "        text='<b>Imigração do Brasil para o Canadá no período de 1980 a 2013</b>',\n",
    "        x=0.12,\n",
    "        xanchor='left',\n",
    "        font=dict(size=20)\n",
    "    ),\n",
    "    xaxis=dict(range=[1980, 2013], autorange=False, title='<b>Ano</b>'),\n",
    "    yaxis=dict(range=[0, 3000], autorange=False, title='<b>Número de imigrantes</b>'),\n",
    "    updatemenus=[dict(\n",
    "        type='buttons',\n",
    "        showactive=False,\n",
    "        buttons=[dict(\n",
    "            label='Play',\n",
    "            method='animate',\n",
    "            args=[None, {'frame': {'duration': 100, 'redraw': True}, 'fromcurrent': True}]\n",
    "        )]\n",
    "    )],\n",
    "    width=1000, \n",
    "    height=500 \n",
    ")\n",
    "\n",
    "# Definir as configurações de animação\n",
    "frames = [go.Frame(data=[go.Scatter(x=dados_Brasil['ano'].iloc[:i+1], y=dados_Brasil['Imigrantes'].iloc[:i+1])]) for i in range(len(dados_Brasil))]\n",
    "fig.frames = frames\n",
    "\n",
    "# Mostrando a figura\n",
    "fig.show()"
   ]
  }
 ],
 "metadata": {
  "kernelspec": {
   "display_name": "Python 3",
   "language": "python",
   "name": "python3"
  },
  "language_info": {
   "codemirror_mode": {
    "name": "ipython",
    "version": 3
   },
   "file_extension": ".py",
   "mimetype": "text/x-python",
   "name": "python",
   "nbconvert_exporter": "python",
   "pygments_lexer": "ipython3",
   "version": "3.12.0"
  }
 },
 "nbformat": 4,
 "nbformat_minor": 2
}
